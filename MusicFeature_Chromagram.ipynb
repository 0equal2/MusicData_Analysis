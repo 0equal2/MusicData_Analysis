{
 "cells": [
  {
   "cell_type": "code",
   "execution_count": 1,
   "metadata": {},
   "outputs": [],
   "source": [
    "#참고 블로그*\n",
    "#https://banana-media-lab.tistory.com/entry/Librosa-python-library%EB%A1%9C-%EC%9D%8C%EC%84%B1%ED%8C%8C%EC%9D%BC-%EB%B6%84%EC%84%9D%ED%95%98%EA%B8%B0\n",
    "\n",
    "\n",
    "#1. 음악 데이터 파일 로드에 필요한 라이브러리 \n",
    "import IPython.display\n",
    "import pandas as pd\n",
    "\n",
    "# 음악 분석 라이브러리\n",
    "import librosa\n",
    "import librosa.display\n",
    "import matplotlib.pyplot as plt"
   ]
  },
  {
   "cell_type": "code",
   "execution_count": 2,
   "metadata": {},
   "outputs": [
    {
     "data": {
      "text/html": [
       "<div>\n",
       "<style scoped>\n",
       "    .dataframe tbody tr th:only-of-type {\n",
       "        vertical-align: middle;\n",
       "    }\n",
       "\n",
       "    .dataframe tbody tr th {\n",
       "        vertical-align: top;\n",
       "    }\n",
       "\n",
       "    .dataframe thead th {\n",
       "        text-align: right;\n",
       "    }\n",
       "</style>\n",
       "<table border=\"1\" class=\"dataframe\">\n",
       "  <thead>\n",
       "    <tr style=\"text-align: right;\">\n",
       "      <th></th>\n",
       "      <th>ID</th>\n",
       "      <th>Format</th>\n",
       "      <th>Path</th>\n",
       "    </tr>\n",
       "  </thead>\n",
       "  <tbody>\n",
       "    <tr>\n",
       "      <th>0</th>\n",
       "      <td>do</td>\n",
       "      <td>mp3</td>\n",
       "      <td>piano/do.mp3</td>\n",
       "    </tr>\n",
       "    <tr>\n",
       "      <th>1</th>\n",
       "      <td>do_sharp</td>\n",
       "      <td>mp3</td>\n",
       "      <td>piano/do_sharp.mp3</td>\n",
       "    </tr>\n",
       "    <tr>\n",
       "      <th>2</th>\n",
       "      <td>re</td>\n",
       "      <td>mp3</td>\n",
       "      <td>piano/re.mp3</td>\n",
       "    </tr>\n",
       "    <tr>\n",
       "      <th>3</th>\n",
       "      <td>re_sharp</td>\n",
       "      <td>mp3</td>\n",
       "      <td>piano/re_sharp.mp3</td>\n",
       "    </tr>\n",
       "    <tr>\n",
       "      <th>4</th>\n",
       "      <td>mi</td>\n",
       "      <td>mp3</td>\n",
       "      <td>piano/mi.mp3</td>\n",
       "    </tr>\n",
       "    <tr>\n",
       "      <th>5</th>\n",
       "      <td>fa</td>\n",
       "      <td>mp3</td>\n",
       "      <td>piano/fa.mp3</td>\n",
       "    </tr>\n",
       "    <tr>\n",
       "      <th>6</th>\n",
       "      <td>fa_sharp</td>\n",
       "      <td>mp3</td>\n",
       "      <td>piano/fa_sharp.mp3</td>\n",
       "    </tr>\n",
       "    <tr>\n",
       "      <th>7</th>\n",
       "      <td>sol</td>\n",
       "      <td>mp3</td>\n",
       "      <td>piano/sol.mp3</td>\n",
       "    </tr>\n",
       "    <tr>\n",
       "      <th>8</th>\n",
       "      <td>ra</td>\n",
       "      <td>mp3</td>\n",
       "      <td>piano/ra.mp3</td>\n",
       "    </tr>\n",
       "    <tr>\n",
       "      <th>9</th>\n",
       "      <td>ra_sharp</td>\n",
       "      <td>mp3</td>\n",
       "      <td>piano/ra_sharp.mp3</td>\n",
       "    </tr>\n",
       "    <tr>\n",
       "      <th>10</th>\n",
       "      <td>si</td>\n",
       "      <td>mp3</td>\n",
       "      <td>piano/si.mp3</td>\n",
       "    </tr>\n",
       "    <tr>\n",
       "      <th>11</th>\n",
       "      <td>do_</td>\n",
       "      <td>mp3</td>\n",
       "      <td>piano/do_.mp3</td>\n",
       "    </tr>\n",
       "  </tbody>\n",
       "</table>\n",
       "</div>"
      ],
      "text/plain": [
       "          ID Format                Path\n",
       "0         do    mp3        piano/do.mp3\n",
       "1   do_sharp    mp3  piano/do_sharp.mp3\n",
       "2         re    mp3        piano/re.mp3\n",
       "3   re_sharp    mp3  piano/re_sharp.mp3\n",
       "4         mi    mp3        piano/mi.mp3\n",
       "5         fa    mp3        piano/fa.mp3\n",
       "6   fa_sharp    mp3  piano/fa_sharp.mp3\n",
       "7        sol    mp3       piano/sol.mp3\n",
       "8         ra    mp3        piano/ra.mp3\n",
       "9   ra_sharp    mp3  piano/ra_sharp.mp3\n",
       "10        si    mp3        piano/si.mp3\n",
       "11       do_    mp3       piano/do_.mp3"
      ]
     },
     "metadata": {},
     "output_type": "display_data"
    }
   ],
   "source": [
    "#2. 피아노 음계 정보 파일 불러오기\n",
    "# piano_inform.csv \n",
    "\n",
    "origin_pitch=pd.read_csv('piano_inform.csv')\n",
    "\n",
    "display(origin_pitch)"
   ]
  },
  {
   "cell_type": "code",
   "execution_count": 3,
   "metadata": {},
   "outputs": [
    {
     "data": {
      "text/html": [
       "<div>\n",
       "<style scoped>\n",
       "    .dataframe tbody tr th:only-of-type {\n",
       "        vertical-align: middle;\n",
       "    }\n",
       "\n",
       "    .dataframe tbody tr th {\n",
       "        vertical-align: top;\n",
       "    }\n",
       "\n",
       "    .dataframe thead th {\n",
       "        text-align: right;\n",
       "    }\n",
       "</style>\n",
       "<table border=\"1\" class=\"dataframe\">\n",
       "  <thead>\n",
       "    <tr style=\"text-align: right;\">\n",
       "      <th></th>\n",
       "      <th>ID</th>\n",
       "      <th>Path</th>\n",
       "    </tr>\n",
       "  </thead>\n",
       "  <tbody>\n",
       "    <tr>\n",
       "      <th>0</th>\n",
       "      <td>do</td>\n",
       "      <td>piano/do.mp3</td>\n",
       "    </tr>\n",
       "    <tr>\n",
       "      <th>1</th>\n",
       "      <td>do_sharp</td>\n",
       "      <td>piano/do_sharp.mp3</td>\n",
       "    </tr>\n",
       "    <tr>\n",
       "      <th>2</th>\n",
       "      <td>re</td>\n",
       "      <td>piano/re.mp3</td>\n",
       "    </tr>\n",
       "    <tr>\n",
       "      <th>3</th>\n",
       "      <td>re_sharp</td>\n",
       "      <td>piano/re_sharp.mp3</td>\n",
       "    </tr>\n",
       "    <tr>\n",
       "      <th>4</th>\n",
       "      <td>mi</td>\n",
       "      <td>piano/mi.mp3</td>\n",
       "    </tr>\n",
       "    <tr>\n",
       "      <th>5</th>\n",
       "      <td>fa</td>\n",
       "      <td>piano/fa.mp3</td>\n",
       "    </tr>\n",
       "    <tr>\n",
       "      <th>6</th>\n",
       "      <td>fa_sharp</td>\n",
       "      <td>piano/fa_sharp.mp3</td>\n",
       "    </tr>\n",
       "    <tr>\n",
       "      <th>7</th>\n",
       "      <td>sol</td>\n",
       "      <td>piano/sol.mp3</td>\n",
       "    </tr>\n",
       "    <tr>\n",
       "      <th>8</th>\n",
       "      <td>ra</td>\n",
       "      <td>piano/ra.mp3</td>\n",
       "    </tr>\n",
       "    <tr>\n",
       "      <th>9</th>\n",
       "      <td>ra_sharp</td>\n",
       "      <td>piano/ra_sharp.mp3</td>\n",
       "    </tr>\n",
       "    <tr>\n",
       "      <th>10</th>\n",
       "      <td>si</td>\n",
       "      <td>piano/si.mp3</td>\n",
       "    </tr>\n",
       "    <tr>\n",
       "      <th>11</th>\n",
       "      <td>do_</td>\n",
       "      <td>piano/do_.mp3</td>\n",
       "    </tr>\n",
       "  </tbody>\n",
       "</table>\n",
       "</div>"
      ],
      "text/plain": [
       "          ID                Path\n",
       "0         do        piano/do.mp3\n",
       "1   do_sharp  piano/do_sharp.mp3\n",
       "2         re        piano/re.mp3\n",
       "3   re_sharp  piano/re_sharp.mp3\n",
       "4         mi        piano/mi.mp3\n",
       "5         fa        piano/fa.mp3\n",
       "6   fa_sharp  piano/fa_sharp.mp3\n",
       "7        sol       piano/sol.mp3\n",
       "8         ra        piano/ra.mp3\n",
       "9   ra_sharp  piano/ra_sharp.mp3\n",
       "10        si        piano/si.mp3\n",
       "11       do_       piano/do_.mp3"
      ]
     },
     "metadata": {},
     "output_type": "display_data"
    }
   ],
   "source": [
    "#3. 분석에 필요한 열만 추출 : pitch_data\n",
    "#ID, Path\n",
    "\n",
    "pitch_data=origin_pitch[['ID','Path']]\n",
    "\n",
    "display(pitch_data)"
   ]
  },
  {
   "cell_type": "code",
   "execution_count": 4,
   "metadata": {},
   "outputs": [
    {
     "name": "stdout",
     "output_type": "stream",
     "text": [
      "ID                do\n",
      "Path    piano/do.mp3\n",
      "Name: 0, dtype: object piano/do.mp3\n"
     ]
    },
    {
     "name": "stderr",
     "output_type": "stream",
     "text": [
      "c:\\users\\yeongeun\\appdata\\local\\programs\\python\\python38-32\\lib\\site-packages\\librosa\\core\\audio.py:161: UserWarning: PySoundFile failed. Trying audioread instead.\n",
      "  warnings.warn('PySoundFile failed. Trying audioread instead.')\n"
     ]
    },
    {
     "name": "stdout",
     "output_type": "stream",
     "text": [
      "[0.37291306, 0.3004133, 0.36021164, 0.35095412, 0.3323774, 0.30949786, 0.27150342, 0.3478579, 0.2710341, 0.5568042, 0.8232495, 1.0]\n",
      "[0.99204093, 1.0, 0.94247377, 0.85047776, 0.7370426, 0.6175289, 0.54927266, 0.5631537, 0.6288978, 0.72769046, 0.8470922, 0.9001422]\n",
      "[1.0, 0.8996528, 0.57686347, 0.28212953, 0.11529444, 0.081677556, 0.07419774, 0.08800002, 0.1499982, 0.26352677, 0.5373406, 0.76187044]\n",
      "[1.0, 0.7351861, 0.3028178, 0.04223288, 0.014175536, 0.008661144, 0.008014665, 0.0091109155, 0.0125243375, 0.05713042, 0.24185438, 0.58399826]\n",
      "[1.0, 0.63965875, 0.22612762, 0.011942361, 0.00020827181, 2.664378e-05, 2.4727431e-05, 7.072632e-05, 0.0011421427, 0.024891455, 0.13717589, 0.5147045]\n",
      "[1.0, 0.6394277, 0.22599594, 0.011941194, 0.00020756527, 2.4429208e-05, 2.078301e-05, 6.514794e-05, 0.0011315352, 0.024850644, 0.13703416, 0.5146174]\n",
      "[1.0, 0.6394647, 0.2260179, 0.01194287, 0.00020741558, 2.445123e-05, 2.0926429e-05, 6.539375e-05, 0.0011314019, 0.024848305, 0.13702421, 0.5146075]\n",
      "[1.0, 0.63944083, 0.22600053, 0.011938676, 0.00020758247, 2.4408939e-05, 2.0804138e-05, 6.527951e-05, 0.0011328182, 0.024846112, 0.13700405, 0.51459366]\n",
      "[1.0, 0.63943654, 0.2260021, 0.011942101, 0.00020718889, 2.4374458e-05, 2.0791505e-05, 6.508834e-05, 0.0011315815, 0.024854897, 0.13705428, 0.5146318]\n",
      "[1.0, 0.63941514, 0.22598602, 0.011938258, 0.00020783902, 2.4368912e-05, 2.0779002e-05, 6.523902e-05, 0.0011322418, 0.024849625, 0.13702482, 0.5146111]\n",
      "[1.0, 0.6394306, 0.22599587, 0.011939718, 0.00020773035, 2.4417706e-05, 2.084636e-05, 6.523607e-05, 0.0011314875, 0.02484677, 0.13701594, 0.5146036]\n",
      "[1.0, 0.6394571, 0.2260146, 0.011944134, 0.00020733067, 2.4479448e-05, 2.0672536e-05, 6.5048385e-05, 0.0011316463, 0.024844604, 0.13700384, 0.5145926]\n"
     ]
    },
    {
     "data": {
      "image/png": "[encoded data removed]",
      "text/plain": [
       "<Figure size 864x216 with 1 Axes>"
      ]
     },
     "metadata": {
      "needs_background": "light"
     },
     "output_type": "display_data"
    }
   ],
   "source": [
    "#4-0. 낮은 도의 chromagram\n",
    "pitch_name=pitch_data.loc[0]\n",
    "pitch_path=pitch_name[1]\n",
    "\n",
    "print(pitch_name, pitch_path)\n",
    "\n",
    "y,sr=librosa.load(pitch_path,sr=44100)\n",
    "IPython.display.Audio(data=y,rate=sr)\n",
    "\n",
    "\n",
    "#음악 plot : x축-time, y축-amplitude\n",
    "plt.figure(figsize=(12,3))\n",
    "librosa.display.waveplot(y,sr=44100,x_axis='time')\n",
    "\n",
    "#크로마그램 추출\n",
    "chroma_stft=librosa.feature.chroma_stft(y=y,sr=sr)\n",
    "\n",
    "for i in range(len(chroma_stft)):\n",
    "    info=[]\n",
    "    for j in range(12):\n",
    "        info.append(chroma_stft[j][i])\n",
    "    print(info)"
   ]
  },
  {
   "cell_type": "code",
   "execution_count": 5,
   "metadata": {},
   "outputs": [
    {
     "name": "stdout",
     "output_type": "stream",
     "text": [
      "ID                do_sharp\n",
      "Path    piano/do_sharp.mp3\n",
      "Name: 1, dtype: object piano/do_sharp.mp3\n",
      "[0.40372303, 0.47489074, 0.20663059, 0.5756533, 0.6833254, 0.52788097, 1.0, 0.47942847, 0.49252954, 0.49941942, 0.60960245, 0.7102592]\n",
      "[0.93018967, 1.0, 0.9943101, 0.91615427, 0.8125041, 0.66961336, 0.56196713, 0.5078017, 0.5541703, 0.61670357, 0.7490896, 0.8307386]\n",
      "[0.7945746, 1.0, 0.8158635, 0.48118886, 0.2033378, 0.088424295, 0.071877465, 0.06803211, 0.08223342, 0.13134883, 0.27152422, 0.52056926]\n",
      "[0.5990474, 1.0, 0.5966387, 0.20066023, 0.020850508, 0.009895573, 0.007402879, 0.0071675526, 0.009570799, 0.013503899, 0.041451707, 0.2680458]\n",
      "[0.4931003, 1.0, 0.4995137, 0.1219619, 0.0046721916, 3.3034852e-05, 4.026205e-06, 4.7825e-06, 1.3958006e-05, 0.00023404599, 0.015147023, 0.18133728]\n",
      "[0.49248078, 1.0, 0.49946654, 0.121890664, 0.004652643, 2.998088e-05, 4.2969277e-06, 4.404896e-06, 1.4360691e-05, 0.0002392684, 0.015125298, 0.18090332]\n",
      "[0.4924618, 1.0, 0.49945793, 0.1218848, 0.0046534385, 3.0166071e-05, 4.297488e-06, 4.4204653e-06, 1.4458488e-05, 0.00023915333, 0.015123469, 0.18088926]\n",
      "[0.49244726, 1.0, 0.49947006, 0.12189202, 0.004653175, 3.0173751e-05, 4.2881193e-06, 4.4350545e-06, 1.4519751e-05, 0.0002390948, 0.015122185, 0.18087889]\n",
      "[0.49246505, 1.0, 0.49943638, 0.12187058, 0.004653338, 3.0128545e-05, 4.2751935e-06, 4.393797e-06, 1.4475441e-05, 0.00023929925, 0.01512407, 0.18089147]\n",
      "[0.4924417, 1.0, 0.49946964, 0.12189157, 0.004653299, 3.0277213e-05, 4.280974e-06, 4.4059566e-06, 1.4515888e-05, 0.00023891147, 0.015121254, 0.18087459]\n",
      "[0.49246612, 1.0, 0.49947172, 0.12189388, 0.004653165, 3.009593e-05, 4.3070468e-06, 4.454675e-06, 1.442252e-05, 0.00023943168, 0.015124884, 0.18089315]\n",
      "[0.4924887, 1.0, 0.49943587, 0.12187114, 0.004653264, 3.0078229e-05, 4.3048044e-06, 4.462153e-06, 1.4542157e-05, 0.00023918424, 0.015124836, 0.18090793]\n"
     ]
    },
    {
     "data": {
      "image/png": "[encoded data removed]",
      "text/plain": [
       "<Figure size 864x216 with 1 Axes>"
      ]
     },
     "metadata": {
      "needs_background": "light"
     },
     "output_type": "display_data"
    }
   ],
   "source": [
    "#4-1. 도샵의 chromagram\n",
    "pitch_name=pitch_data.loc[1]\n",
    "pitch_path=pitch_name[1]\n",
    "\n",
    "print(pitch_name, pitch_path)\n",
    "\n",
    "y,sr=librosa.load(pitch_path,sr=44100)\n",
    "IPython.display.Audio(data=y,rate=sr)\n",
    "\n",
    "\n",
    "#음악 plot : x축-time, y축-amplitude\n",
    "plt.figure(figsize=(12,3))\n",
    "librosa.display.waveplot(y,sr=44100,x_axis='time')\n",
    "\n",
    "#크로마그램 추출\n",
    "chroma_stft=librosa.feature.chroma_stft(y=y,sr=sr)\n",
    "\n",
    "for i in range(len(chroma_stft)):\n",
    "    info=[]\n",
    "    for j in range(12):\n",
    "        info.append(chroma_stft[j][i])\n",
    "    print(info)"
   ]
  },
  {
   "cell_type": "code",
   "execution_count": 6,
   "metadata": {},
   "outputs": [
    {
     "name": "stdout",
     "output_type": "stream",
     "text": [
      "ID                re\n",
      "Path    piano/re.mp3\n",
      "Name: 2, dtype: object piano/re.mp3\n",
      "[0.27317184, 0.49099422, 0.2305728, 0.7066999, 1.0, 0.9232251, 0.8444513, 0.29587772, 0.19796672, 0.3273213, 0.458193, 0.2641579]\n",
      "[0.8301588, 0.94443274, 1.0, 0.97211814, 0.8972497, 0.75851333, 0.6156869, 0.4985792, 0.48277184, 0.5056138, 0.61923987, 0.721121]\n",
      "[0.49718934, 0.8575816, 1.0, 0.7822421, 0.42981133, 0.15732875, 0.078672886, 0.06509367, 0.064837866, 0.07569353, 0.11928677, 0.26867607]\n",
      "[0.23190038, 0.72848284, 1.0, 0.5824078, 0.14427547, 0.016568966, 0.008434056, 0.0069944216, 0.006718706, 0.008161122, 0.014909811, 0.04670802]\n",
      "[0.16987114, 0.64979595, 1.0, 0.5240128, 0.06956231, 0.0028847547, 0.00012827646, 3.534458e-05, 3.8390663e-05, 0.000117009324, 0.0008328014, 0.0101538915]\n",
      "[0.16970395, 0.64907795, 1.0, 0.5240126, 0.06943183, 0.0028547398, 0.00011777135, 3.1173557e-05, 3.735015e-05, 0.00011771443, 0.0008395094, 0.010188178]\n",
      "[0.16967277, 0.6490186, 1.0, 0.52403295, 0.069444135, 0.002857145, 0.00011776579, 3.113985e-05, 3.717521e-05, 0.000117686875, 0.000838579, 0.010176894]\n",
      "[0.1696763, 0.64903015, 1.0, 0.5240506, 0.06946243, 0.0028567275, 0.00011809428, 3.1168995e-05, 3.6970152e-05, 0.000117245465, 0.0008377968, 0.010176668]\n",
      "[0.16969864, 0.64909214, 1.0, 0.52401173, 0.06943442, 0.0028564762, 0.00011844111, 3.1104853e-05, 3.7045e-05, 0.000117385614, 0.00083831477, 0.010180374]\n",
      "[0.16969267, 0.6490656, 1.0, 0.5240132, 0.0694312, 0.0028554832, 0.000118096636, 3.1169136e-05, 3.7224254e-05, 0.00011774193, 0.0008389711, 0.010181972]\n",
      "[0.1696881, 0.6490395, 1.0, 0.5240169, 0.06943074, 0.0028556017, 0.00011771317, 3.1220046e-05, 3.726923e-05, 0.00011792094, 0.000839655, 0.010184564]\n",
      "[0.16968559, 0.64903724, 1.0, 0.5240301, 0.069442645, 0.0028549654, 0.000117764306, 3.12882e-05, 3.7110975e-05, 0.00011777903, 0.00083979126, 0.010183222]\n"
     ]
    },
    {
     "data": {
      "image/png": "[encoded data removed]",
      "text/plain": [
       "<Figure size 864x216 with 1 Axes>"
      ]
     },
     "metadata": {
      "needs_background": "light"
     },
     "output_type": "display_data"
    }
   ],
   "source": [
    "#4-2. 레의 chromagram\n",
    "pitch_name=pitch_data.loc[2]\n",
    "pitch_path=pitch_name[1]\n",
    "\n",
    "print(pitch_name, pitch_path)\n",
    "\n",
    "y,sr=librosa.load(pitch_path,sr=44100)\n",
    "IPython.display.Audio(data=y,rate=sr)\n",
    "\n",
    "\n",
    "#음악 plot : x축-time, y축-amplitude\n",
    "plt.figure(figsize=(12,3))\n",
    "librosa.display.waveplot(y,sr=44100,x_axis='time')\n",
    "\n",
    "#크로마그램 추출\n",
    "chroma_stft=librosa.feature.chroma_stft(y=y,sr=sr)\n",
    "\n",
    "for i in range(len(chroma_stft)):\n",
    "    info=[]\n",
    "    for j in range(12):\n",
    "        info.append(chroma_stft[j][i])\n",
    "    print(info)"
   ]
  }
 ],
 "metadata": {
  "kernelspec": {
   "display_name": "Python 3",
   "language": "python",
   "name": "python3"
  },
  "language_info": {
   "codemirror_mode": {
    "name": "ipython",
    "version": 3
   },
   "file_extension": ".py",
   "mimetype": "text/x-python",
   "name": "python",
   "nbconvert_exporter": "python",
   "pygments_lexer": "ipython3",
   "version": "3.8.1"
  }
 },
 "nbformat": 4,
 "nbformat_minor": 4
}
